{
  "nbformat": 4,
  "nbformat_minor": 0,
  "metadata": {
    "colab": {
      "provenance": [],
      "authorship_tag": "ABX9TyMyvtaqU5HuaFXBrJRppWGn",
      "include_colab_link": true
    },
    "kernelspec": {
      "name": "python3",
      "display_name": "Python 3"
    },
    "language_info": {
      "name": "python"
    }
  },
  "cells": [
    {
      "cell_type": "markdown",
      "metadata": {
        "id": "view-in-github",
        "colab_type": "text"
      },
      "source": [
        "<a href=\"https://colab.research.google.com/github/marimsw/chastota_slov/blob/main/the_word_often.ipynb\" target=\"_parent\"><img src=\"https://colab.research.google.com/assets/colab-badge.svg\" alt=\"Open In Colab\"/></a>"
      ]
    },
    {
      "cell_type": "code",
      "execution_count": null,
      "metadata": {
        "colab": {
          "base_uri": "https://localhost:8080/"
        },
        "id": "j9ntTdNH7tDi",
        "outputId": "1d35b194-3477-470b-daf6-07232cb85ccd"
      },
      "outputs": [
        {
          "output_type": "stream",
          "name": "stdout",
          "text": [
            "Категория: negative\n",
            "  не: 2\n",
            "  понравился: 1\n",
            "  качество: 1\n",
            "  плохое: 1\n",
            "  ужасный: 1\n",
            "  сервис: 1\n",
            "  вернусь: 1\n",
            "  больше: 1\n",
            "Категория: positive\n",
            "  отличный: 1\n",
            "  продукт: 1\n",
            "  очень: 1\n",
            "  доволен: 1\n",
            "  хороший: 1\n",
            "  товар: 1\n",
            "  рекомендую: 1\n",
            "  прекрасный: 1\n",
            "  опыт: 1\n",
            "  все: 1\n",
            "  понравилось: 1\n"
          ]
        }
      ],
      "source": [
        "?import pandas as pd\n",
        "from collections import Counter\n",
        "import re\n",
        "\n",
        "# Пример данных: список текстов и их категорий\n",
        "data = {\n",
        "    'text': [\n",
        "        'Отличный продукт, очень доволен!',\n",
        "        'Не понравился, качество плохое.',\n",
        "        'Хороший товар, рекомендую.',\n",
        "        'Ужасный сервис, не вернусь больше.',\n",
        "        'Прекрасный опыт, все понравилось.'\n",
        "    ],\n",
        "    'category': [\n",
        "        'positive',\n",
        "        'negative',\n",
        "        'positive',\n",
        "        'negative',\n",
        "        'positive'\n",
        "    ]\n",
        "}\n",
        "\n",
        "# Создаем DataFrame\n",
        "df = pd.DataFrame(data)\n",
        "\n",
        "# Функция для предобработки текста\n",
        "def preprocess_text(text):\n",
        "    # Удаляем специальные символы и приводим к нижнему регистру\n",
        "    text = re.sub(r'[^а-яА-ЯёЁ\\s]', '', text)\n",
        "    return text.lower()\n",
        "\n",
        "# Применяем предобработку к текстам\n",
        "df['cleaned_text'] = df['text'].apply(preprocess_text)\n",
        "\n",
        "# Подсчет частоты слов в разрезе категорий\n",
        "def count_words_by_category(df):\n",
        "    word_counts = {}\n",
        "    for category, group in df.groupby('category'):\n",
        "        words = ' '.join(group['cleaned_text']).split()\n",
        "        word_counts[category] = Counter(words)\n",
        "    return word_counts\n",
        "\n",
        "# Получаем частоту слов\n",
        "word_frequencies = count_words_by_category(df)\n",
        "\n",
        "# Выводим результаты\n",
        "for category, counts in word_frequencies.items():\n",
        "    print(f\"Категория: {category}\")\n",
        "    for word, count in counts.most_common():\n",
        "        print(f\"  {word}: {count}\")\n"
      ]
    },
    {
      "cell_type": "code",
      "source": [
        "import pandas as pd\n",
        "import re\n",
        "\n",
        "# Пример данных: список текстов\n",
        "data = {\n",
        "    'text': [\n",
        "        'Отличный продукт, очень доволен!',\n",
        "        'Отличный костюм',\n",
        "        'Не понравился, качество плохое.',\n",
        "        'Хороший товар, рекомендую.',\n",
        "        'Ужасный сервис, не вернусь больше.',\n",
        "        'Прекрасный опыт, все понравилось.'\n",
        "    ]\n",
        "}\n",
        "\n",
        "# Создаем DataFrame\n",
        "df = pd.DataFrame(data)\n",
        "\n",
        "# Функция для предобработки текста\n",
        "def preprocess_text(text):\n",
        "    # Удаляем специальные символы и приводим к нижнему регистру\n",
        "    text = re.sub(r'[^а-яА-ЯёЁ\\s]', '', text)\n",
        "    return text.lower()\n",
        "\n",
        "# Применяем предобработку к текстам\n",
        "df['cleaned_text'] = df['text'].apply(preprocess_text)\n",
        "\n",
        "# Функция для подсчета частоты слова\n",
        "def count_word_frequency(df, word):\n",
        "    word = word.lower()  # Приводим слово к нижнему регистру\n",
        "    count = 0\n",
        "    for text in df['cleaned_text']:\n",
        "        count += text.split().count(word)\n",
        "    return count\n",
        "\n",
        "# Ввод слова для поиска\n",
        "word_to_search = input(\"Введите слово для поиска: \")\n",
        "\n",
        "# Получаем частоту слова\n",
        "frequency = count_word_frequency(df, word_to_search)\n",
        "\n",
        "# Выводим результат\n",
        "print(f\"Слово '{word_to_search}' встречается {frequency} раз(а).\")\n"
      ],
      "metadata": {
        "colab": {
          "base_uri": "https://localhost:8080/"
        },
        "id": "pRok0MZP8p7d",
        "outputId": "9a92ccd2-fd4c-4766-a5c9-f79293f349d1"
      },
      "execution_count": null,
      "outputs": [
        {
          "output_type": "stream",
          "name": "stdout",
          "text": [
            "Введите слово для поиска: отличный\n",
            "Слово 'отличный' встречается 2 раз(а).\n"
          ]
        }
      ]
    },
    {
      "cell_type": "code",
      "source": [
        "df['cleaned_text']"
      ],
      "metadata": {
        "colab": {
          "base_uri": "https://localhost:8080/",
          "height": 272
        },
        "id": "OLzhsOuNO73t",
        "outputId": "12c3955a-f472-49c5-a1dd-a6ca8fa0712b"
      },
      "execution_count": null,
      "outputs": [
        {
          "output_type": "execute_result",
          "data": {
            "text/plain": [
              "0      отличный продукт очень доволен\n",
              "1                     отличный костюм\n",
              "2       не понравился качество плохое\n",
              "3            хороший товар рекомендую\n",
              "4    ужасный сервис не вернусь больше\n",
              "5     прекрасный опыт все понравилось\n",
              "Name: cleaned_text, dtype: object"
            ],
            "text/html": [
              "<div>\n",
              "<style scoped>\n",
              "    .dataframe tbody tr th:only-of-type {\n",
              "        vertical-align: middle;\n",
              "    }\n",
              "\n",
              "    .dataframe tbody tr th {\n",
              "        vertical-align: top;\n",
              "    }\n",
              "\n",
              "    .dataframe thead th {\n",
              "        text-align: right;\n",
              "    }\n",
              "</style>\n",
              "<table border=\"1\" class=\"dataframe\">\n",
              "  <thead>\n",
              "    <tr style=\"text-align: right;\">\n",
              "      <th></th>\n",
              "      <th>cleaned_text</th>\n",
              "    </tr>\n",
              "  </thead>\n",
              "  <tbody>\n",
              "    <tr>\n",
              "      <th>0</th>\n",
              "      <td>отличный продукт очень доволен</td>\n",
              "    </tr>\n",
              "    <tr>\n",
              "      <th>1</th>\n",
              "      <td>отличный костюм</td>\n",
              "    </tr>\n",
              "    <tr>\n",
              "      <th>2</th>\n",
              "      <td>не понравился качество плохое</td>\n",
              "    </tr>\n",
              "    <tr>\n",
              "      <th>3</th>\n",
              "      <td>хороший товар рекомендую</td>\n",
              "    </tr>\n",
              "    <tr>\n",
              "      <th>4</th>\n",
              "      <td>ужасный сервис не вернусь больше</td>\n",
              "    </tr>\n",
              "    <tr>\n",
              "      <th>5</th>\n",
              "      <td>прекрасный опыт все понравилось</td>\n",
              "    </tr>\n",
              "  </tbody>\n",
              "</table>\n",
              "</div><br><label><b>dtype:</b> object</label>"
            ]
          },
          "metadata": {},
          "execution_count": 5
        }
      ]
    }
  ]
}